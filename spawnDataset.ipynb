{
 "cells": [
  {
   "cell_type": "code",
   "execution_count": 8,
   "metadata": {},
   "outputs": [],
   "source": [
    "import pandas as pd\n",
    "import os\n",
    "import shutil\n",
    "import zipfile\n",
    "import cv2\n",
    "import uuid\n",
    "import random"
   ]
  },
  {
   "cell_type": "code",
   "execution_count": 9,
   "metadata": {},
   "outputs": [],
   "source": [
    "def count_files(folder):\n",
    "    try:\n",
    "        file_count = len([name for name in os.listdir(folder) if os.path.isfile(os.path.join(folder, name))])\n",
    "        print(f\"Total files in '{folder}' folder: {file_count}\")\n",
    "    except Exception as e:\n",
    "        print(f\"Error occurred: {e}\")"
   ]
  },
  {
   "cell_type": "code",
   "execution_count": 10,
   "metadata": {},
   "outputs": [
    {
     "name": "stdout",
     "output_type": "stream",
     "text": [
      "Total files in 'vids' folder: 324\n"
     ]
    }
   ],
   "source": [
    "VID_FOLDER = 'vids'\n",
    "PIC_FOLDER = 'randomPics'\n",
    "ORIGINAL_PIC_FOLDER = 'randomPicOriginals'\n",
    "TABLE_NAME = 'picsToVids'\n",
    "\n",
    "count_files(VID_FOLDER)"
   ]
  },
  {
   "cell_type": "code",
   "execution_count": 11,
   "metadata": {},
   "outputs": [],
   "source": [
    "NUMBER_VIDEOS = 324\n",
    "NUMBER_FRAMES = 250\n",
    "SQUARE_SIDE_SIZE = 500"
   ]
  },
  {
   "cell_type": "code",
   "execution_count": 12,
   "metadata": {},
   "outputs": [],
   "source": [
    "def extract_random_frames(video):\n",
    "    \n",
    "    # Create the output folders if doesn't exist\n",
    "    if not os.path.exists(PIC_FOLDER):\n",
    "        os.makedirs(PIC_FOLDER)\n",
    "    \n",
    "    if not os.path.exists(ORIGINAL_PIC_FOLDER):\n",
    "        os.makedirs(ORIGINAL_PIC_FOLDER)\n",
    "    \n",
    "    # Open the video file\n",
    "    full_video_path = os.path.join(VID_FOLDER, video)\n",
    "    cap = cv2.VideoCapture(full_video_path)\n",
    "    \n",
    "    # Get the total number of frames in the video\n",
    "    total_frames = int(cap.get(cv2.CAP_PROP_FRAME_COUNT))\n",
    "    cut_percent = int(total_frames*0.12)\n",
    "    \n",
    "    # Generate N unique random frame numbers\n",
    "    random_frames = random.sample(range(cut_percent,total_frames-cut_percent), min(NUMBER_FRAMES, total_frames-5*cut_percent))\n",
    "    \n",
    "    data = []\n",
    "    for frame_number in random_frames:\n",
    "        # Set the current frame position of the video file\n",
    "        cap.set(cv2.CAP_PROP_POS_FRAMES, frame_number)\n",
    "        \n",
    "        # Read the frame\n",
    "        success, frame = cap.read()\n",
    "        \n",
    "        # If reading was successful, save the frame as an image\n",
    "        if success:\n",
    "            \n",
    "            # save the uncropped frame\n",
    "            filename = f\"{uuid.uuid4()}.jpg\"\n",
    "            cv2.imwrite(os.path.join(ORIGINAL_PIC_FOLDER, filename), frame)\n",
    "            \n",
    "            # crop\n",
    "            height, width = frame.shape[:2]\n",
    "            center_x, center_y = width // 2, height // 2\n",
    "            x_start = center_x - SQUARE_SIDE_SIZE // 2\n",
    "            x_end = center_x + SQUARE_SIDE_SIZE // 2\n",
    "            y_start = center_y - SQUARE_SIDE_SIZE // 2\n",
    "            y_end = center_y + SQUARE_SIDE_SIZE // 2\n",
    "            cropped_frame = frame[y_start:y_end , x_start:x_end]\n",
    "\n",
    "            cv2.imwrite(os.path.join(PIC_FOLDER, filename), cropped_frame)\n",
    "\n",
    "            # add to the table\n",
    "            data.append({'picname': filename, 'videoname': video})\n",
    "        else:\n",
    "            print(f\"{video} : Failed to extract frame {frame_number}\")\n",
    "\n",
    "    # Release the video capture object\n",
    "    cap.release()\n",
    "    # print(f\"{video} : Done\")\n",
    "\n",
    "    return data "
   ]
  },
  {
   "cell_type": "code",
   "execution_count": 13,
   "metadata": {},
   "outputs": [],
   "source": [
    "counter = 0\n",
    "data = []\n",
    "\n",
    "try:\n",
    "    for video in os.listdir(VID_FOLDER):\n",
    "\n",
    "        if counter >= NUMBER_VIDEOS:\n",
    "            break\n",
    "\n",
    "        data += extract_random_frames(video)\n",
    "        counter += 1\n",
    "finally:\n",
    "    TABLE = pd.DataFrame(data)\n",
    "    TABLE.to_csv(TABLE_NAME + '.csv', index=False)\n"
   ]
  },
  {
   "cell_type": "code",
   "execution_count": 14,
   "metadata": {},
   "outputs": [
    {
     "name": "stdout",
     "output_type": "stream",
     "text": [
      "Total files in 'randomPics' folder: 80371\n",
      "Total files in 'randomPicOriginals' folder: 80371\n"
     ]
    }
   ],
   "source": [
    "count_files(PIC_FOLDER)\n",
    "count_files(ORIGINAL_PIC_FOLDER)"
   ]
  },
  {
   "cell_type": "code",
   "execution_count": 1,
   "metadata": {},
   "outputs": [],
   "source": [
    "def split_into_folders(source_folder, target_root, pics_per_folder=50):\n",
    "    if not os.path.exists(target_root):\n",
    "        os.makedirs(target_root)\n",
    "    \n",
    "    files = [f for f in os.listdir(source_folder) if os.path.isfile(os.path.join(source_folder, f))]\n",
    "    total_files = len(files)\n",
    "    folder_count = 0\n",
    "    \n",
    "    for i in range(0, total_files, pics_per_folder):\n",
    "        folder_name = os.path.join(target_root, f\"patch_{folder_count}\")\n",
    "        os.makedirs(folder_name, exist_ok=True)\n",
    "        \n",
    "        for file in files[i:i+pics_per_folder]:\n",
    "            shutil.move(os.path.join(source_folder, file), folder_name)\n",
    "        \n",
    "        folder_count += 1\n",
    "\n",
    "\n",
    "split_into_folders('randomPics', 'splitPics', 50)\n"
   ]
  },
  {
   "cell_type": "code",
   "execution_count": 2,
   "metadata": {},
   "outputs": [],
   "source": [
    "def compress_folders(root_folder):\n",
    "    compressed_folder = root_folder + 'Compressed'\n",
    "    if not os.path.exists(compressed_folder):\n",
    "        os.makedirs(compressed_folder)\n",
    "    \n",
    "    folders = [f for f in os.listdir(root_folder) if os.path.isdir(os.path.join(root_folder, f))]\n",
    "    for folder in folders:\n",
    "        folder_path = os.path.join(root_folder, folder)\n",
    "        zip_file_path = os.path.join(compressed_folder, f\"{folder}.zip\")\n",
    "        with zipfile.ZipFile(zip_file_path, 'w', zipfile.ZIP_DEFLATED) as zipf:\n",
    "            for root, _, files in os.walk(folder_path):\n",
    "                for file in files:\n",
    "                    zipf.write(os.path.join(root, file), os.path.relpath(os.path.join(root, file), os.path.join(folder_path, '..')))\n",
    "\n",
    "compress_folders('splitPics')"
   ]
  }
 ],
 "metadata": {
  "kernelspec": {
   "display_name": "flowersdetection-py--_iDwAx4-py3.12",
   "language": "python",
   "name": "python3"
  },
  "language_info": {
   "codemirror_mode": {
    "name": "ipython",
    "version": 3
   },
   "file_extension": ".py",
   "mimetype": "text/x-python",
   "name": "python",
   "nbconvert_exporter": "python",
   "pygments_lexer": "ipython3",
   "version": "3.12.1"
  }
 },
 "nbformat": 4,
 "nbformat_minor": 2
}
