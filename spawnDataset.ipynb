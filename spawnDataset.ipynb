{
 "cells": [
  {
   "cell_type": "code",
   "execution_count": 8,
   "metadata": {},
   "outputs": [],
   "source": [
    "import pandas as pd\n",
    "import os\n",
    "import cv2\n",
    "import uuid\n",
    "import random"
   ]
  },
  {
   "cell_type": "code",
   "execution_count": 9,
   "metadata": {},
   "outputs": [],
   "source": [
    "def count_files(folder):\n",
    "    try:\n",
    "        file_count = len([name for name in os.listdir(folder) if os.path.isfile(os.path.join(folder, name))])\n",
    "        print(f\"Total files in '{folder}' folder: {file_count}\")\n",
    "    except Exception as e:\n",
    "        print(f\"Error occurred: {e}\")"
   ]
  },
  {
   "cell_type": "code",
   "execution_count": 10,
   "metadata": {},
   "outputs": [
    {
     "name": "stdout",
     "output_type": "stream",
     "text": [
      "Total files in 'vids' folder: 324\n"
     ]
    }
   ],
   "source": [
    "VID_FOLDER = 'vids'\n",
    "PIC_FOLDER = 'randomPics'\n",
    "ORIGINAL_PIC_FOLDER = 'randomPicOriginals'\n",
    "TABLE_NAME = 'picsToVids'\n",
    "\n",
    "count_files(VID_FOLDER)"
   ]
  },
  {
   "cell_type": "code",
   "execution_count": 11,
   "metadata": {},
   "outputs": [],
   "source": [
    "NUMBER_VIDEOS = 324\n",
    "NUMBER_FRAMES = 250\n",
    "SQUARE_SIDE_SIZE = 500"
   ]
  },
  {
   "cell_type": "code",
   "execution_count": 12,
   "metadata": {},
   "outputs": [],
   "source": [
    "def extract_random_frames(video):\n",
    "    \n",
    "    # Create the output folders if doesn't exist\n",
    "    if not os.path.exists(PIC_FOLDER):\n",
    "        os.makedirs(PIC_FOLDER)\n",
    "    \n",
    "    if not os.path.exists(ORIGINAL_PIC_FOLDER):\n",
    "        os.makedirs(ORIGINAL_PIC_FOLDER)\n",
    "    \n",
    "    # Open the video file\n",
    "    full_video_path = os.path.join(VID_FOLDER, video)\n",
    "    cap = cv2.VideoCapture(full_video_path)\n",
    "    \n",
    "    # Get the total number of frames in the video\n",
    "    total_frames = int(cap.get(cv2.CAP_PROP_FRAME_COUNT))\n",
    "    cut_percent = int(total_frames*0.12)\n",
    "    \n",
    "    # Generate N unique random frame numbers\n",
    "    random_frames = random.sample(range(cut_percent,total_frames-cut_percent), min(NUMBER_FRAMES, total_frames-5*cut_percent))\n",
    "    \n",
    "    data = []\n",
    "    for frame_number in random_frames:\n",
    "        # Set the current frame position of the video file\n",
    "        cap.set(cv2.CAP_PROP_POS_FRAMES, frame_number)\n",
    "        \n",
    "        # Read the frame\n",
    "        success, frame = cap.read()\n",
    "        \n",
    "        # If reading was successful, save the frame as an image\n",
    "        if success:\n",
    "            \n",
    "            # save the uncropped frame\n",
    "            filename = f\"{uuid.uuid4()}.jpg\"\n",
    "            cv2.imwrite(os.path.join(ORIGINAL_PIC_FOLDER, filename), frame)\n",
    "            \n",
    "            # crop\n",
    "            height, width = frame.shape[:2]\n",
    "            center_x, center_y = width // 2, height // 2\n",
    "            x_start = center_x - SQUARE_SIDE_SIZE // 2\n",
    "            x_end = center_x + SQUARE_SIDE_SIZE // 2\n",
    "            y_start = center_y - SQUARE_SIDE_SIZE // 2\n",
    "            y_end = center_y + SQUARE_SIDE_SIZE // 2\n",
    "            cropped_frame = frame[y_start:y_end , x_start:x_end]\n",
    "\n",
    "            cv2.imwrite(os.path.join(PIC_FOLDER, filename), cropped_frame)\n",
    "\n",
    "            # add to the table\n",
    "            data.append({'picname': filename, 'videoname': video})\n",
    "        else:\n",
    "            print(f\"{video} : Failed to extract frame {frame_number}\")\n",
    "\n",
    "    # Release the video capture object\n",
    "    cap.release()\n",
    "    # print(f\"{video} : Done\")\n",
    "\n",
    "    return data "
   ]
  },
  {
   "cell_type": "code",
   "execution_count": 13,
   "metadata": {},
   "outputs": [],
   "source": [
    "counter = 0\n",
    "data = []\n",
    "\n",
    "try:\n",
    "    for video in os.listdir(VID_FOLDER):\n",
    "\n",
    "        if counter >= NUMBER_VIDEOS:\n",
    "            break\n",
    "\n",
    "        data += extract_random_frames(video)\n",
    "        counter += 1\n",
    "finally:\n",
    "    TABLE = pd.DataFrame(data)\n",
    "    TABLE.to_csv(TABLE_NAME + '.csv', index=False)\n"
   ]
  },
  {
   "cell_type": "code",
   "execution_count": 14,
   "metadata": {},
   "outputs": [
    {
     "name": "stdout",
     "output_type": "stream",
     "text": [
      "Total files in 'randomPics' folder: 80371\n",
      "Total files in 'randomPicOriginals' folder: 80371\n"
     ]
    }
   ],
   "source": [
    "count_files(PIC_FOLDER)\n",
    "count_files(ORIGINAL_PIC_FOLDER)"
   ]
  }
 ],
 "metadata": {
  "kernelspec": {
   "display_name": "flowersdetection-py--_iDwAx4-py3.12",
   "language": "python",
   "name": "python3"
  },
  "language_info": {
   "codemirror_mode": {
    "name": "ipython",
    "version": 3
   },
   "file_extension": ".py",
   "mimetype": "text/x-python",
   "name": "python",
   "nbconvert_exporter": "python",
   "pygments_lexer": "ipython3",
   "version": "3.12.1"
  }
 },
 "nbformat": 4,
 "nbformat_minor": 2
}
